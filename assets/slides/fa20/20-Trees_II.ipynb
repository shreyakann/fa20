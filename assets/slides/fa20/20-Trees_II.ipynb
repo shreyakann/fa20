{
 "cells": [
  {
   "cell_type": "markdown",
   "metadata": {},
   "source": [
    "# Lecture 19 & 20 Trees\n",
    "\n",
    "A tree is a _data structure_ that is like a linked list, but each item can have multiple \"children\" or branches.\n",
    "\n",
    "## Scroll down for Lecture 20 stuff. "
   ]
  },
  {
   "cell_type": "code",
   "execution_count": 136,
   "metadata": {},
   "outputs": [],
   "source": [
    "class Tree:\n",
    "    def __init__(self, value, branches=()):\n",
    "        self.value = value\n",
    "        for branch in branches:\n",
    "            assert isinstance(branch, Tree)\n",
    "        self.branches = list(branches)\n",
    "\n",
    "    def __repr__(self):\n",
    "        # This is merely a more concise representation useful for later.\n",
    "        others = ' ...' if self.branches else ''\n",
    "        return 'Tree({0}){1}'.format(self.value, others)\n",
    "#         if self.branches:\n",
    "#             branches_str = ', ' + repr(self.branches)\n",
    "#         else:\n",
    "#             branches_str = ''\n",
    "#         return 'Tree({0}{1})'.format(self.value, branches_str)\n",
    "\n",
    "    def is_leaf(self):\n",
    "        return not self.branches\n",
    "    \n",
    "    def add_branch(self, tree):\n",
    "        assert isinstance(tree, Tree)\n",
    "        self.branches.append(tree)\n"
   ]
  },
  {
   "cell_type": "code",
   "execution_count": 137,
   "metadata": {},
   "outputs": [],
   "source": [
    "my_tree = Tree(1)"
   ]
  },
  {
   "cell_type": "code",
   "execution_count": 138,
   "metadata": {},
   "outputs": [
    {
     "data": {
      "text/plain": [
       "Tree(1)"
      ]
     },
     "execution_count": 138,
     "metadata": {},
     "output_type": "execute_result"
    }
   ],
   "source": [
    "my_tree"
   ]
  },
  {
   "cell_type": "code",
   "execution_count": 98,
   "metadata": {},
   "outputs": [],
   "source": [
    "def print_tree(t, indent=0):\n",
    "    \"\"\"Print a representation of this tree in which each label is\n",
    "    indented by two spaces times its depth from the root.\n",
    "\n",
    "    >>> print_tree(tree(1))\n",
    "    1\n",
    "    >>> print_tree(tree(1, [tree(2)]))\n",
    "    1\n",
    "      2\n",
    "    >>> print_tree(fib_tree(4))\n",
    "    3\n",
    "      1\n",
    "        0\n",
    "        1\n",
    "      2\n",
    "        1\n",
    "        1\n",
    "          0\n",
    "          1\n",
    "    \"\"\"\n",
    "    print('  ' * indent + str(t.value))\n",
    "    for b in t.branches:\n",
    "        print_tree(b, indent + 1)"
   ]
  },
  {
   "cell_type": "code",
   "execution_count": 11,
   "metadata": {},
   "outputs": [],
   "source": [
    "def count_nodes(t):\n",
    "    \"\"\"The number of leaves in tree.\n",
    "\n",
    "    >>> count_nodes(fib_tree(5))\n",
    "    8\n",
    "    \"\"\"\n",
    "    if t.is_leaf():\n",
    "        return 1\n",
    "    else:\n",
    "        return 1 + sum([count_nodes(b) for b in t.branches])"
   ]
  },
  {
   "cell_type": "code",
   "execution_count": 12,
   "metadata": {},
   "outputs": [
    {
     "data": {
      "text/plain": [
       "1"
      ]
     },
     "execution_count": 12,
     "metadata": {},
     "output_type": "execute_result"
    }
   ],
   "source": [
    "count_nodes(my_tree)"
   ]
  },
  {
   "cell_type": "code",
   "execution_count": 47,
   "metadata": {},
   "outputs": [
    {
     "data": {
      "text/plain": [
       "15"
      ]
     },
     "execution_count": 47,
     "metadata": {},
     "output_type": "execute_result"
    }
   ],
   "source": [
    "count_nodes(fib_tree(5))"
   ]
  },
  {
   "cell_type": "code",
   "execution_count": 48,
   "metadata": {},
   "outputs": [],
   "source": [
    "def leaves(tree):\n",
    "    \"\"\"Return a list containing the leaf labels of tree.\n",
    "\n",
    "    >>> leaves(fib_tree(5))\n",
    "    [1, 0, 1, 0, 1, 1, 0, 1]\n",
    "    \"\"\"\n",
    "    if tree.is_leaf():\n",
    "        return [ tree.value ]\n",
    "    else:\n",
    "        # Sum with a \"start=[]\"\n",
    "        # [1] + [2] + [3]...\n",
    "        return sum([leaves(b) for b in tree.branches], [])"
   ]
  },
  {
   "cell_type": "code",
   "execution_count": 99,
   "metadata": {},
   "outputs": [],
   "source": [
    "def fib_tree(n):\n",
    "    if n == 0 or n == 1:\n",
    "        return Tree(n)\n",
    "    else:\n",
    "        left, right = fib_tree(n-2), fib_tree(n-1)\n",
    "        fib_n = left.value + right.value\n",
    "        return Tree(fib_n, [left, right])"
   ]
  },
  {
   "cell_type": "code",
   "execution_count": 100,
   "metadata": {},
   "outputs": [
    {
     "data": {
      "text/plain": [
       "Tree(5, [Tree(2, [Tree(1), Tree(1, [Tree(0), Tree(1)])]), Tree(3, [Tree(1, [Tree(0), Tree(1)]), Tree(2, [Tree(1), Tree(1, [Tree(0), Tree(1)])])])])"
      ]
     },
     "execution_count": 100,
     "metadata": {},
     "output_type": "execute_result"
    }
   ],
   "source": [
    "fib_tree(5)"
   ]
  },
  {
   "cell_type": "code",
   "execution_count": 27,
   "metadata": {},
   "outputs": [
    {
     "data": {
      "text/plain": [
       "[1, 0, 1, 0, 1, 1, 0, 1]"
      ]
     },
     "execution_count": 27,
     "metadata": {},
     "output_type": "execute_result"
    }
   ],
   "source": [
    "leaves(fib_tree(5))"
   ]
  },
  {
   "cell_type": "code",
   "execution_count": 70,
   "metadata": {},
   "outputs": [
    {
     "name": "stdout",
     "output_type": "stream",
     "text": [
      "5\n",
      "  2\n",
      "    1\n",
      "    1\n",
      "      0\n",
      "      1\n",
      "  3\n",
      "    1\n",
      "      0\n",
      "      1\n",
      "    2\n",
      "      1\n",
      "      1\n",
      "        0\n",
      "        1\n"
     ]
    }
   ],
   "source": [
    "print_tree(fib_tree(5))"
   ]
  },
  {
   "cell_type": "code",
   "execution_count": 33,
   "metadata": {},
   "outputs": [
    {
     "data": {
      "text/plain": [
       "Tree(3, [Tree(1, [Tree(0), Tree(1)]), Tree(2, [Tree(1), Tree(1, [Tree(0), Tree(1)])])])"
      ]
     },
     "execution_count": 33,
     "metadata": {},
     "output_type": "execute_result"
    }
   ],
   "source": [
    "fib_tree(4)"
   ]
  },
  {
   "cell_type": "code",
   "execution_count": 34,
   "metadata": {},
   "outputs": [
    {
     "data": {
      "text/plain": [
       "3"
      ]
     },
     "execution_count": 34,
     "metadata": {},
     "output_type": "execute_result"
    }
   ],
   "source": [
    "sum(leaves(fib_tree(4)))"
   ]
  },
  {
   "cell_type": "markdown",
   "metadata": {},
   "source": [
    "# Lecture 20: Searching Trees\n"
   ]
  },
  {
   "cell_type": "code",
   "execution_count": 129,
   "metadata": {},
   "outputs": [],
   "source": [
    "big_tree = Tree(\n",
    "    '1A', [\n",
    "    Tree('2A', [\n",
    "        Tree('3A', [\n",
    "            Tree('4A', [\n",
    "                Tree('5A')\n",
    "            ])]),\n",
    "        Tree('3B', [\n",
    "            Tree('4B'), \n",
    "            Tree('4C', [\n",
    "                Tree('5B', [\n",
    "                    Tree('6A')\n",
    "                ])\n",
    "            ]),\n",
    "            Tree('4D'),\n",
    "            Tree('4E')\n",
    "        ])\n",
    "    ]),\n",
    "    Tree('2B',[\n",
    "        Tree('3C', [\n",
    "            Tree('4F')\n",
    "        ])\n",
    "    ])\n",
    "])"
   ]
  },
  {
   "cell_type": "code",
   "execution_count": 130,
   "metadata": {},
   "outputs": [
    {
     "name": "stdout",
     "output_type": "stream",
     "text": [
      "1A\n",
      "  2A\n",
      "    3A\n",
      "      4A\n",
      "        5A\n",
      "    3B\n",
      "      4B\n",
      "      4C\n",
      "        5B\n",
      "          6A\n",
      "      4D\n",
      "      4E\n",
      "  2B\n",
      "    3C\n",
      "      4F\n"
     ]
    }
   ],
   "source": [
    "print_tree(big_tree)"
   ]
  },
  {
   "cell_type": "code",
   "execution_count": 131,
   "metadata": {},
   "outputs": [],
   "source": [
    "def traverse_recursive(t):\n",
    "    print('Saw: ' + t.value)\n",
    "    for b in t.branches:\n",
    "        traverse_recursive(b)"
   ]
  },
  {
   "cell_type": "code",
   "execution_count": 132,
   "metadata": {},
   "outputs": [
    {
     "name": "stdout",
     "output_type": "stream",
     "text": [
      "Saw: 1A\n",
      "Saw: 2A\n",
      "Saw: 3A\n",
      "Saw: 4A\n",
      "Saw: 5A\n",
      "Saw: 3B\n",
      "Saw: 4B\n",
      "Saw: 4C\n",
      "Saw: 5B\n",
      "Saw: 6A\n",
      "Saw: 4D\n",
      "Saw: 4E\n",
      "Saw: 2B\n",
      "Saw: 3C\n",
      "Saw: 4F\n"
     ]
    }
   ],
   "source": [
    "traverse_recursive(big_tree)"
   ]
  },
  {
   "cell_type": "markdown",
   "metadata": {},
   "source": [
    "Notice that, like out printed view, we got down one whole path before going back up.\n",
    "\n",
    "\n",
    "This is called depth first search.\n",
    "\n",
    "But, what if we want to go acroos each \"level\" first, such that I see all the 2's, then all the 3's and so on..."
   ]
  },
  {
   "cell_type": "markdown",
   "metadata": {},
   "source": [
    "## Breadth First Search.\n",
    "\n",
    "Use the commented print statements to inspect our `to_visit` list.\n",
    "This is called a _queue_. The first items we put in (via `.append`) are the first ones \"out\", that we access by using `.pop(0)`. We call this \"First In, First Out\".\n",
    "\n",
    "But really, it's just a list. It's all about using it in a particular way."
   ]
  },
  {
   "cell_type": "code",
   "execution_count": 123,
   "metadata": {},
   "outputs": [],
   "source": [
    "def traverse_across(t):\n",
    "    to_visit = []\n",
    "    to_visit.append(t)\n",
    "    while len(to_visit) > 0:\n",
    "        node = to_visit.pop(0)\n",
    "        print('Visit: ' + node.value)\n",
    "        for branch in node.branches:\n",
    "            to_visit.append(branch)\n",
    "        print(to_visit)"
   ]
  },
  {
   "cell_type": "code",
   "execution_count": 124,
   "metadata": {},
   "outputs": [
    {
     "name": "stdout",
     "output_type": "stream",
     "text": [
      "Visit: 1A\n",
      "[Tree(2A...), Tree(2B...)]\n",
      "Visit: 2A\n",
      "[Tree(2B...), Tree(3A...), Tree(3B...)]\n",
      "Visit: 2B\n",
      "[Tree(3A...), Tree(3B...), Tree(3C...)]\n",
      "Visit: 3A\n",
      "[Tree(3B...), Tree(3C...), Tree(4A...)]\n",
      "Visit: 3B\n",
      "[Tree(3C...), Tree(4A...), Tree(4B...), Tree(4C...), Tree(4D...), Tree(4E...)]\n",
      "Visit: 3C\n",
      "[Tree(4A...), Tree(4B...), Tree(4C...), Tree(4D...), Tree(4E...), Tree(4F...)]\n",
      "Visit: 4A\n",
      "[Tree(4B...), Tree(4C...), Tree(4D...), Tree(4E...), Tree(4F...), Tree(5A...)]\n",
      "Visit: 4B\n",
      "[Tree(4C...), Tree(4D...), Tree(4E...), Tree(4F...), Tree(5A...)]\n",
      "Visit: 4C\n",
      "[Tree(4D...), Tree(4E...), Tree(4F...), Tree(5A...), Tree(5B...)]\n",
      "Visit: 4D\n",
      "[Tree(4E...), Tree(4F...), Tree(5A...), Tree(5B...)]\n",
      "Visit: 4E\n",
      "[Tree(4F...), Tree(5A...), Tree(5B...)]\n",
      "Visit: 4F\n",
      "[Tree(5A...), Tree(5B...)]\n",
      "Visit: 5A\n",
      "[Tree(5B...)]\n",
      "Visit: 5B\n",
      "[Tree(6A...)]\n",
      "Visit: 6A\n",
      "[]\n"
     ]
    }
   ],
   "source": [
    "traverse_across(big_tree)"
   ]
  },
  {
   "cell_type": "code",
   "execution_count": 116,
   "metadata": {},
   "outputs": [],
   "source": [
    "my_list = [1, 2, 3]\n",
    "item = my_list.pop(0)"
   ]
  },
  {
   "cell_type": "code",
   "execution_count": 117,
   "metadata": {},
   "outputs": [
    {
     "name": "stdout",
     "output_type": "stream",
     "text": [
      "1\n"
     ]
    }
   ],
   "source": [
    "print(item)"
   ]
  },
  {
   "cell_type": "code",
   "execution_count": 118,
   "metadata": {},
   "outputs": [
    {
     "name": "stdout",
     "output_type": "stream",
     "text": [
      "[2, 3]\n"
     ]
    }
   ],
   "source": [
    "print(my_list)"
   ]
  },
  {
   "cell_type": "markdown",
   "metadata": {},
   "source": [
    "# Binary Search Trees\n",
    "\n",
    "A tree where each sub tree has 2 children, a left and a right."
   ]
  },
  {
   "cell_type": "code",
   "execution_count": 164,
   "metadata": {},
   "outputs": [],
   "source": [
    "ordered_tree = Tree(8, [Tree(3,\n",
    "                             [Tree(1),\n",
    "                              Tree(6, [Tree(4), Tree(7)])]\n",
    "                            ),\n",
    "                       Tree(10, [\n",
    "                           Tree(None),\n",
    "                           Tree(14, [Tree(13), Tree(None)])])\n",
    "                       ]\n",
    "                   )"
   ]
  },
  {
   "cell_type": "code",
   "execution_count": 165,
   "metadata": {},
   "outputs": [
    {
     "name": "stdout",
     "output_type": "stream",
     "text": [
      "8\n",
      "  3\n",
      "    1\n",
      "    6\n",
      "      4\n",
      "      7\n",
      "  10\n",
      "    None\n",
      "    14\n",
      "      13\n",
      "      None\n"
     ]
    }
   ],
   "source": [
    "print_tree(ordered_tree)"
   ]
  },
  {
   "cell_type": "code",
   "execution_count": 162,
   "metadata": {},
   "outputs": [],
   "source": [
    "def bst(tree, value):\n",
    "    if tree.value == value:\n",
    "        return value\n",
    "    elif tree.is_leaf():\n",
    "        return 'NOT FOUND'\n",
    "    left = tree.branches[0]\n",
    "    right = tree.branches[1]\n",
    "    if left.value and value < tree.value:\n",
    "        return bst(left, value)\n",
    "    elif right.value:\n",
    "        return bst(right, value)\n",
    "    return 'NOT FOUND'"
   ]
  },
  {
   "cell_type": "code",
   "execution_count": 163,
   "metadata": {},
   "outputs": [
    {
     "name": "stdout",
     "output_type": "stream",
     "text": [
      "0 NOT FOUND\n",
      "1 1\n",
      "2 NOT FOUND\n",
      "3 3\n",
      "4 4\n",
      "5 NOT FOUND\n",
      "6 6\n",
      "7 7\n",
      "8 8\n",
      "9 NOT FOUND\n",
      "10 10\n",
      "11 NOT FOUND\n",
      "12 NOT FOUND\n",
      "13 13\n",
      "14 14\n",
      "15 NOT FOUND\n",
      "16 NOT FOUND\n",
      "17 NOT FOUND\n"
     ]
    }
   ],
   "source": [
    "for i in range(18):\n",
    "    print(str(i) + ' ' + str(bst(ordered_tree, i)))"
   ]
  },
  {
   "cell_type": "code",
   "execution_count": null,
   "metadata": {},
   "outputs": [],
   "source": []
  }
 ],
 "metadata": {
  "kernelspec": {
   "display_name": "Python 3",
   "language": "python",
   "name": "python3"
  },
  "language_info": {
   "codemirror_mode": {
    "name": "ipython",
    "version": 3
   },
   "file_extension": ".py",
   "mimetype": "text/x-python",
   "name": "python",
   "nbconvert_exporter": "python",
   "pygments_lexer": "ipython3",
   "version": "3.6.9"
  }
 },
 "nbformat": 4,
 "nbformat_minor": 4
}
