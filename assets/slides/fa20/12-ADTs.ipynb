{
 "cells": [
  {
   "cell_type": "markdown",
   "metadata": {},
   "source": [
    "# Abstract Data Types"
   ]
  },
  {
   "cell_type": "code",
   "execution_count": 19,
   "metadata": {},
   "outputs": [],
   "source": [
    "# This is a little piece of magic to help you test functions against\n",
    "# their doctest as you go.\n",
    "# This is equivalent to `python3 -m doctest file.py`\n",
    "import doctest\n",
    "def test(fun, verbose=True):\n",
    "    doctest.run_docstring_examples(fun, None, name=fun.__name__, verbose=verbose)"
   ]
  },
  {
   "cell_type": "markdown",
   "metadata": {},
   "source": [
    "## An Intro ADT.\n",
    "\n",
    "A `point` is an `(x, y)` pair. We can do all sorts of cool things with points."
   ]
  },
  {
   "cell_type": "code",
   "execution_count": 64,
   "metadata": {},
   "outputs": [
    {
     "data": {
      "text/plain": [
       "5.0"
      ]
     },
     "execution_count": 64,
     "metadata": {},
     "output_type": "execute_result"
    }
   ],
   "source": [
    "# A point with no abstractions.\n",
    "\n",
    "def subtract(p1, p2): # Operator\n",
    "    return (p2[0] - p1[0], p2[1] - p1[1])\n",
    "\n",
    "def distance(p1, p2): # Operator\n",
    "    \"\"\"Pythagorean theorem between 2 points\"\"\"\n",
    "    difference = subtract(p1, p2)\n",
    "    return (difference[0]**2 + difference[1]**2) ** 0.5\n",
    "\n",
    "    \n",
    "origin = [0, 0]\n",
    "my_house = [5, 5] # Random values, for illustration.\n",
    "campus = [8, 9]\n",
    "\n",
    "distance_to_campus = distance(my_house, campus)\n",
    "\n",
    "distance_to_campus"
   ]
  },
  {
   "cell_type": "code",
   "execution_count": 65,
   "metadata": {},
   "outputs": [
    {
     "name": "stdout",
     "output_type": "stream",
     "text": [
      "[5, 5]\n"
     ]
    },
    {
     "data": {
      "text/plain": [
       "5"
      ]
     },
     "execution_count": 65,
     "metadata": {},
     "output_type": "execute_result"
    }
   ],
   "source": [
    "print(my_house)\n",
    "\n",
    "my_house[0] #abstraction violation"
   ]
  },
  {
   "cell_type": "markdown",
   "metadata": {},
   "source": [
    "## Define a few simple functions\n",
    "\n",
    "**But** Directly using `[0]` and `[1]` gets confusing. What if we made out code more clear?\n",
    "\n",
    "### We refer to this as _self-documenting_ code.\n"
   ]
  },
  {
   "cell_type": "code",
   "execution_count": 79,
   "metadata": {},
   "outputs": [
    {
     "name": "stdout",
     "output_type": "stream",
     "text": [
      "5.0\n",
      "8\n"
     ]
    }
   ],
   "source": [
    "\n",
    "def point(x, y): # constructor\n",
    "        return (y, x)\n",
    "\n",
    "x = lambda point: point[1] # selector, could easily be a normal function\n",
    "y = lambda point: point[0]\n",
    "\n",
    "def subtract(p1, p2): # Operator\n",
    "    return point(x(p2) - x(p1), y(p2) - y(p1))\n",
    "\n",
    "def distance(p1, p2): # Operator\n",
    "    \"\"\"Pythagorean theorem between 2 points\"\"\"\n",
    "    difference = subtract(p1, p2)\n",
    "    return (x(difference)**2 + y(difference)**2) ** 0.5\n",
    "\n",
    "    \n",
    "# Using our new ADT\n",
    "origin = point(0, 0)\n",
    "my_house = point(5, 5) # Random values, for illustration.\n",
    "campus = point(8, 9)\n",
    "\n",
    "distance_to_campus = distance(my_house, campus)\n",
    "\n",
    "print(distance_to_campus)\n",
    "\n",
    "\n",
    "print(x(campus))"
   ]
  },
  {
   "cell_type": "code",
   "execution_count": 82,
   "metadata": {},
   "outputs": [
    {
     "data": {
      "text/plain": [
       "9"
      ]
     },
     "execution_count": 82,
     "metadata": {},
     "output_type": "execute_result"
    }
   ],
   "source": [
    "origin\n",
    "\n",
    "campus[0]"
   ]
  },
  {
   "cell_type": "code",
   "execution_count": 71,
   "metadata": {},
   "outputs": [],
   "source": [
    "# ADTs different format\n",
    "\n",
    "def point(x, y): # constructor\n",
    "        return str(x) + \" \" + str(y)\n",
    "\n",
    "x = lambda point: float(point.split(' ')[0]) # selector, could easily be a normal function\n",
    "y = lambda point: float(point.split(' ')[1])\n"
   ]
  },
  {
   "cell_type": "code",
   "execution_count": 74,
   "metadata": {},
   "outputs": [
    {
     "name": "stdout",
     "output_type": "stream",
     "text": [
      "5.0\n",
      "0 0\n"
     ]
    }
   ],
   "source": [
    "origin = point(0, 0)\n",
    "my_house = point(5, 5) # Random values, for illustration.\n",
    "campus = point(8, 9)\n",
    "\n",
    "distance_to_campus = distance(my_house, campus)\n",
    "\n",
    "print(distance_to_campus)\n",
    "print(origin)"
   ]
  },
  {
   "cell_type": "code",
   "execution_count": 77,
   "metadata": {},
   "outputs": [
    {
     "data": {
      "text/plain": [
       "['0', '0']"
      ]
     },
     "execution_count": 77,
     "metadata": {},
     "output_type": "execute_result"
    }
   ],
   "source": [
    "origin\n",
    "\n",
    "origin.split(' ')"
   ]
  },
  {
   "cell_type": "markdown",
   "metadata": {},
   "source": [
    "---\n",
    "#### We call this line the _Abstraction Barrier_.\n",
    "\n",
    "It separates the implementation (setters and getters) for how we access and use our `point`s.\n",
    "\n",
    "---\n"
   ]
  },
  {
   "cell_type": "code",
   "execution_count": 73,
   "metadata": {},
   "outputs": [
    {
     "name": "stdout",
     "output_type": "stream",
     "text": [
      "8.0\n",
      "8\n"
     ]
    }
   ],
   "source": [
    "#################### Barrier ############\n",
    "\n",
    "def subtract(p1, p2): # Operator\n",
    "    return point(x(p2) - x(p1), y(p2) - y(p1))\n",
    "\n",
    "def distance(p1, p2): # Operator\n",
    "    \"\"\"Pythagorean theorem between 2 points\"\"\"\n",
    "    difference = subtract(p1, p2)\n",
    "    return (x(difference)**2 + y(difference)**2) ** 0.5\n",
    "\n",
    "    \n",
    "# Using our new ADT\n",
    "origin = point(0, 0)\n",
    "my_house = point(5, 5) # Random values, for illustration.\n",
    "campus = point(8, 9)\n",
    "\n",
    "distance_to_campus = distance(my_house, campus)\n",
    "\n",
    "distance_to_campus\n",
    "\n",
    "\n",
    "print(x(campus))\n",
    "print(campus[0])"
   ]
  },
  {
   "cell_type": "markdown",
   "metadata": {},
   "source": [
    "## You already know ADTs!\n",
    "\n",
    "Midterm `Tic-Tac-Toe` gave you an ADT to use."
   ]
  },
  {
   "cell_type": "code",
   "execution_count": 83,
   "metadata": {},
   "outputs": [],
   "source": [
    "def allFourEqual(a, b, c, d):\n",
    "    return a == b == c == d\n",
    "\n",
    "def determine_win_1(board, player):\n",
    "    \"\"\"\n",
    "    >>> determine_win_1([['X', 'O', 'X'],  ['O', 'X', 'X'],  ['O', 'X', 'O']], 'O')\n",
    "    False\n",
    "    >>> determine_win_1([['O', 'O', 'O'], ['X', 'O', 'X'], ['X', 'O', 'X']], 'O')\n",
    "    True\n",
    "    \"\"\"\n",
    "    for row in board:\n",
    "        if allFourEqual(row[0], row[1], row[2], player):\n",
    "            return True\n",
    "    for col in range(3):\n",
    "        if allFourEqual(board[0][col], board[1][col], board[2][col], player):\n",
    "            return True\n",
    "    if allFourEqual(board[0][0], board[1][1], board[2][2], player):\n",
    "        return True\n",
    "    if allFourEqual(board[0][2], board[1][1], board[2][0], player):\n",
    "        return True\n",
    "    return False"
   ]
  },
  {
   "cell_type": "code",
   "execution_count": 84,
   "metadata": {},
   "outputs": [
    {
     "name": "stdout",
     "output_type": "stream",
     "text": [
      "Finding tests in determine_win_1\n",
      "Trying:\n",
      "    determine_win_1([['X', 'O', 'X'],  ['O', 'X', 'X'],  ['O', 'X', 'O']], 'O')\n",
      "Expecting:\n",
      "    False\n",
      "ok\n",
      "Trying:\n",
      "    determine_win_1([['O', 'O', 'O'], ['X', 'O', 'X'], ['X', 'O', 'X']], 'O')\n",
      "Expecting:\n",
      "    True\n",
      "ok\n"
     ]
    }
   ],
   "source": [
    "test(determine_win_1)"
   ]
  },
  {
   "cell_type": "markdown",
   "metadata": {},
   "source": [
    "### Define an ADT for our Board:"
   ]
  },
  {
   "cell_type": "code",
   "execution_count": 23,
   "metadata": {},
   "outputs": [],
   "source": [
    "def all_four_equal(pieces, player):\n",
    "    \"\"\"\n",
    "    Returns true if the set of 3 pieces is the same as the player.\n",
    "    >>> all_four_equal(['X', 'X', 'X'], 'O')\n",
    "    False\n",
    "    \"\"\"\n",
    "    return pieces[0] == pieces[1] == pieces[2] == player\n",
    "\n",
    "def column(board, index):\n",
    "    \"\"\"\n",
    "    Return the 0th, 1st, or 2nd column in a board.\n",
    "    >>> column([['X', 'O', 'X'], \n",
    "                ['O', 'X', 'X'], \n",
    "                ['O', 'X', 'O']], 1)\n",
    "    ['0', 'X', 'X']\n",
    "    \"\"\"\n",
    "    return [ row[index] for row in board ]\n",
    "\n",
    "def diagonal(board, index):\n",
    "    \"\"\"\n",
    "    Return either 0th or 1st diagonal in a board.\n",
    "    >>> diagonal([['X', 'O', 'X'], \n",
    "                  ['O', 'X', 'X'], \n",
    "                  ['O', 'X', 'O']], 1)\n",
    "    ['X', 'X', '0']\n",
    "    \"\"\"\n",
    "    if index == 0:\n",
    "        return [ board[0][0], board[1][1], board[2][2] ]\n",
    "    else:\n",
    "        return [ board[0][2], board[1][1], board[2][0] ]"
   ]
  },
  {
   "cell_type": "code",
   "execution_count": 31,
   "metadata": {},
   "outputs": [],
   "source": [
    "def determine_win_2(board, player):\n",
    "    \"\"\"\n",
    "    >>> determine_win_2([['X', 'O', 'X'],  ['O', 'X', 'X'],  ['O', 'X', 'O']], 'O')\n",
    "    False\n",
    "    >>> determine_win_2([['O', 'O', 'O'], ['X', 'O', 'X'], ['X', 'O', 'X']], 'O')\n",
    "    True\n",
    "    \"\"\"\n",
    "    for row in board:\n",
    "        if all_four_equal(row, player):\n",
    "            return True\n",
    "    for col in range(3):\n",
    "        if all_four_equal(column(board, col), player):\n",
    "            return True\n",
    "    return all_four_equal(diagonal(board, 0), player) or all_four_equal(diagonal(board, 1), player)\n",
    "\n"
   ]
  },
  {
   "cell_type": "code",
   "execution_count": 85,
   "metadata": {},
   "outputs": [
    {
     "name": "stdout",
     "output_type": "stream",
     "text": [
      "Finding tests in determine_win_2\n",
      "Trying:\n",
      "    determine_win_2([['X', 'O', 'X'],  ['O', 'X', 'X'],  ['O', 'X', 'O']], 'O')\n",
      "Expecting:\n",
      "    False\n",
      "ok\n",
      "Trying:\n",
      "    determine_win_2([['O', 'O', 'O'], ['X', 'O', 'X'], ['X', 'O', 'X']], 'O')\n",
      "Expecting:\n",
      "    True\n",
      "ok\n"
     ]
    }
   ],
   "source": [
    "test(determine_win_2)"
   ]
  },
  {
   "cell_type": "code",
   "execution_count": 93,
   "metadata": {},
   "outputs": [
    {
     "name": "stdout",
     "output_type": "stream",
     "text": [
      "['-', '-', '-', '-', '-', '-', '-', '-', '-', '-', '-', '-', '-', '-', '-', '-']\n"
     ]
    }
   ],
   "source": [
    "board = [['O', 'O', 'O'], ['X', 'O', 'X'], ['X', 'O', 'X'] ]\n",
    "\n",
    "def rows(board):\n",
    "    return board\n",
    "\n",
    "def empty_board(width, height):\n",
    "    return ['-' for i in range(width * height) ]\n",
    "\n",
    "\n",
    "my_board = empty_board(4, 4)\n",
    "\n",
    "print(my_board)"
   ]
  },
  {
   "cell_type": "markdown",
   "metadata": {},
   "source": [
    "## What's missing from the ADT?\n",
    "\n",
    "* A board setter / creator\n",
    "* A `row` function.\n",
    "* May a `columns` function, etc. that return all columns.\n",
    "    * How do you know there's only 3?"
   ]
  },
  {
   "cell_type": "markdown",
   "metadata": {},
   "source": [
    "## Key Value Pairs.\n",
    "\n",
    "A \"Key-Value Pair\" is a mapping of some name to some value.\n",
    "\n",
    "We are going to use a \"Phone Book\" which maps a name of a contact to a phone number."
   ]
  },
  {
   "cell_type": "code",
   "execution_count": 96,
   "metadata": {
    "scrolled": true
   },
   "outputs": [
    {
     "name": "stdout",
     "output_type": "stream",
     "text": [
      " Number:  Error: Contact Not Found\n",
      "All Numbers\n",
      "['510-842-9235', '932-567-3241', '617-547-0923', '310-912-6483', '415-432-9292', '707-341-1254']\n",
      "Area codes\n",
      "['510', '932', '617', '310', '415', '707']\n"
     ]
    }
   ],
   "source": [
    "phone_book_data = [\n",
    "        (\"Christine Strauch\", \"510-842-9235\"),\n",
    "        (\"Frances Catal Buloan\", \"932-567-3241\"),\n",
    "        (\"Jack Chow\", \"617-547-0923\"),\n",
    "        (\"Joy De Rosario\", \"310-912-6483\"),\n",
    "        (\"Casey Casem\", \"415-432-9292\"),\n",
    "        (\"Lydia Lu\", \"707-341-1254\")\n",
    "]\n",
    "\n",
    "phone_book = pb_create(phone_book_data)\n",
    "\n",
    "# print(phone_book)\n",
    "print(\" Number: \", pb_get(phone_book, \"Michael\"))\n",
    "\n",
    "\n",
    "print('All Numbers')\n",
    "print(pb_numbers(phone_book))\n",
    "\n",
    "print(\"Area codes\")\n",
    "area_code = lambda num: num[0:3]\n",
    "area_codes = list(map(area_code, pb_numbers(phone_book)))\n",
    "print(area_codes)\n"
   ]
  },
  {
   "cell_type": "markdown",
   "metadata": {},
   "source": [
    "## Building Our Phone Book ADT"
   ]
  },
  {
   "cell_type": "code",
   "execution_count": 95,
   "metadata": {},
   "outputs": [],
   "source": [
    "def pb_create(lst):\n",
    "    result = []\n",
    "    for item in lst:\n",
    "        result.append(new_contact(item[0], item[1]))\n",
    "    return result\n",
    "\n",
    "def pb_get(data, name):\n",
    "    \"\"\"\n",
    "    Return the contact info for a person.\n",
    "    \"\"\"\n",
    "    for contact in data:\n",
    "        if contact_name(contact) == name:\n",
    "            return contact_number(contact)\n",
    "    return \"Error: Contact Not Found\"\n",
    "\n",
    "def pb_names(book):\n",
    "    return list(map(contact_name, book))\n",
    "\n",
    "def pb_numbers(book):\n",
    "    return list(map(contact_number, book))\n",
    "\n",
    "def new_contact(name, number):\n",
    "    return [name, number]\n",
    "\n",
    "def contact_name(contact):\n",
    "    return contact[0]\n",
    "\n",
    "def contact_number(contact):\n",
    "    return contact[1]\n"
   ]
  },
  {
   "cell_type": "code",
   "execution_count": null,
   "metadata": {},
   "outputs": [],
   "source": []
  },
  {
   "cell_type": "markdown",
   "metadata": {},
   "source": [
    "# Dictionaires\n",
    "\n",
    "`dicts` are a Python feature which are essentially \"key value pairs\".\n",
    "We are going to rebuild our phone book using dictionaries."
   ]
  },
  {
   "cell_type": "code",
   "execution_count": 50,
   "metadata": {},
   "outputs": [
    {
     "name": "stdout",
     "output_type": "stream",
     "text": [
      "['Once', 'upon', 'a', 'time']\n",
      "{'Once': 4, 'upon': 4, 'a': 1, 'time': 4}\n"
     ]
    }
   ],
   "source": [
    "text = \"Once upon a time\"\n",
    "\n",
    "print(text.split())\n",
    "\n",
    "d = { word : len(word) for word in text.split() }\n",
    "print(d)"
   ]
  },
  {
   "cell_type": "code",
   "execution_count": 102,
   "metadata": {},
   "outputs": [],
   "source": [
    "d.keys()\n",
    "\n",
    "\"time\" in d\n",
    "\n",
    "4 in d # does not search for values\n",
    "\n",
    "d.values()\n",
    "\n",
    "d2 = {'Once': 4, 'upon': 4, 'a': 1, 'time': 4}\n",
    "\n",
    "# d2"
   ]
  },
  {
   "cell_type": "code",
   "execution_count": 104,
   "metadata": {},
   "outputs": [
    {
     "data": {
      "text/plain": [
       "4"
      ]
     },
     "execution_count": 104,
     "metadata": {},
     "output_type": "execute_result"
    }
   ],
   "source": [
    "d2['Once']"
   ]
  },
  {
   "cell_type": "code",
   "execution_count": 105,
   "metadata": {},
   "outputs": [
    {
     "name": "stdout",
     "output_type": "stream",
     "text": [
      "Key: Once => Value: 4\n",
      "Key: upon => Value: 4\n",
      "Key: a => Value: 1\n",
      "Key: time => Value: 4\n"
     ]
    }
   ],
   "source": [
    "for (key, value) in d.items():\n",
    "    print(\"Key: \" + key + \" => Value: \" + str(value))"
   ]
  },
  {
   "cell_type": "code",
   "execution_count": 106,
   "metadata": {},
   "outputs": [
    {
     "name": "stdout",
     "output_type": "stream",
     "text": [
      "None\n"
     ]
    }
   ],
   "source": [
    "print(d.get('hello'))"
   ]
  },
  {
   "cell_type": "code",
   "execution_count": 108,
   "metadata": {},
   "outputs": [
    {
     "ename": "KeyError",
     "evalue": "'hello'",
     "output_type": "error",
     "traceback": [
      "\u001b[0;31m---------------------------------------------------------------------------\u001b[0m",
      "\u001b[0;31mKeyError\u001b[0m                                  Traceback (most recent call last)",
      "\u001b[0;32m<ipython-input-108-b0dc4f55129d>\u001b[0m in \u001b[0;36m<module>\u001b[0;34m\u001b[0m\n\u001b[0;32m----> 1\u001b[0;31m \u001b[0md\u001b[0m\u001b[0;34m[\u001b[0m\u001b[0;34m'hello'\u001b[0m\u001b[0;34m]\u001b[0m\u001b[0;34m\u001b[0m\u001b[0;34m\u001b[0m\u001b[0m\n\u001b[0m",
      "\u001b[0;31mKeyError\u001b[0m: 'hello'"
     ]
    }
   ],
   "source": [
    "d['hello']"
   ]
  },
  {
   "cell_type": "code",
   "execution_count": 109,
   "metadata": {},
   "outputs": [
    {
     "ename": "IndexError",
     "evalue": "list index out of range",
     "output_type": "error",
     "traceback": [
      "\u001b[0;31m---------------------------------------------------------------------------\u001b[0m",
      "\u001b[0;31mIndexError\u001b[0m                                Traceback (most recent call last)",
      "\u001b[0;32m<ipython-input-109-18986c003498>\u001b[0m in \u001b[0;36m<module>\u001b[0;34m\u001b[0m\n\u001b[0;32m----> 1\u001b[0;31m \u001b[0;34m[\u001b[0m\u001b[0;36m0\u001b[0m\u001b[0;34m,\u001b[0m \u001b[0;36m1\u001b[0m\u001b[0;34m,\u001b[0m \u001b[0;36m2\u001b[0m\u001b[0;34m]\u001b[0m\u001b[0;34m[\u001b[0m\u001b[0;36m5\u001b[0m\u001b[0;34m]\u001b[0m\u001b[0;34m\u001b[0m\u001b[0;34m\u001b[0m\u001b[0m\n\u001b[0m",
      "\u001b[0;31mIndexError\u001b[0m: list index out of range"
     ]
    }
   ],
   "source": [
    "[0, 1, 2][5]"
   ]
  },
  {
   "cell_type": "code",
   "execution_count": 6,
   "metadata": {},
   "outputs": [
    {
     "data": {
      "text/plain": [
       "{3: 9, 4: 16, 5: 25}"
      ]
     },
     "execution_count": 6,
     "metadata": {},
     "output_type": "execute_result"
    }
   ],
   "source": [
    "squares =    {x: x*x for x in range(3,6)}\n",
    "squares"
   ]
  },
  {
   "cell_type": "markdown",
   "metadata": {},
   "source": [
    "# Rewriting Our Contacts As a Dictionary"
   ]
  },
  {
   "cell_type": "code",
   "execution_count": 62,
   "metadata": {},
   "outputs": [],
   "source": [
    "def dict_pb_create(lst):\n",
    "    book = {}\n",
    "    for item in lst:\n",
    "        dict_new_contact(book, item[0], item[1])\n",
    "    return book\n",
    "\n",
    "def dict_pb_get(data, name):\n",
    "    \"\"\"\n",
    "    Return the contact info for a person.\n",
    "    \"\"\"\n",
    "    return data[name]\n",
    "\n",
    "\n",
    "def dict_pb_numbers(book):\n",
    "    return [ contact_number(book[contact]) for contact in book ] # values() is a built in method.\n",
    "\n",
    "def dict_new_contact(phone_book, name, number):\n",
    "    \"Adds a new contact to a phone book\"\n",
    "    phone_book[name] = { 'name': name, 'number': number }\n",
    "\n",
    "# In the dictionary representation these are not as necessary.\n",
    "def contact_name(contact):\n",
    "    return contact['name']\n",
    "\n",
    "def contact_number(contact):\n",
    "    return contact['number']"
   ]
  },
  {
   "cell_type": "code",
   "execution_count": 63,
   "metadata": {},
   "outputs": [
    {
     "name": "stdout",
     "output_type": "stream",
     "text": [
      "Jack Chows's Number:  {'name': 'Jack Chow', 'number': '617-547-0923'}\n",
      "Area codes\n",
      "['510', '932', '617', '310', '415', '707']\n"
     ]
    }
   ],
   "source": [
    "pb2 = dict_pb_create(phone_book_data)\n",
    "\n",
    "print(\"Jack Chows's Number: \", dict_pb_get(pb2, \"Jack Chow\"))\n",
    "print(\"Area codes\")\n",
    "area_codes = list(map(lambda x:x[0:3], dict_pb_numbers(pb2)))\n",
    "print(area_codes)"
   ]
  },
  {
   "cell_type": "code",
   "execution_count": null,
   "metadata": {},
   "outputs": [],
   "source": []
  }
 ],
 "metadata": {
  "kernelspec": {
   "display_name": "Python 3",
   "language": "python",
   "name": "python3"
  },
  "language_info": {
   "codemirror_mode": {
    "name": "ipython",
    "version": 3
   },
   "file_extension": ".py",
   "mimetype": "text/x-python",
   "name": "python",
   "nbconvert_exporter": "python",
   "pygments_lexer": "ipython3",
   "version": "3.6.9"
  }
 },
 "nbformat": 4,
 "nbformat_minor": 2
}
